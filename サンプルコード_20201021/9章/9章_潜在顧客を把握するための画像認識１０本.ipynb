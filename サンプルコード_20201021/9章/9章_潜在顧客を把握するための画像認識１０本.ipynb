{
 "cells": [
  {
   "cell_type": "code",
   "execution_count": 1,
   "metadata": {
    "id": "8O_38K85ij3j"
   },
   "outputs": [],
   "source": [
    "# 警告(worning)の非表示化\n",
    "import warnings\n",
    "warnings.filterwarnings('ignore')"
   ]
  },
  {
   "cell_type": "code",
   "execution_count": 2,
   "metadata": {},
   "outputs": [
    {
     "name": "stdout",
     "output_type": "stream",
     "text": [
      "Requirement already satisfied: opencv-contrib-python in c:\\users\\yujit\\anaconda3\\lib\\site-packages (4.7.0.72)\n",
      "Requirement already satisfied: numpy>=1.19.3 in c:\\users\\yujit\\anaconda3\\lib\\site-packages (from opencv-contrib-python) (1.21.5)\n"
     ]
    }
   ],
   "source": [
    "!pip install opencv-contrib-python"
   ]
  },
  {
   "cell_type": "markdown",
   "metadata": {
    "id": "1jbQ8XRVij3k"
   },
   "source": [
    "# 9章 潜在顧客を把握するための画像認識１０本\n",
    "\n",
    "ここでは、カメラから取得した映像を用いて画像認識を行い、  \n",
    "必要な情報を取得するための流れを学ぶことで、  \n",
    "画像認識をビジネス現場で応用するイメージをつかみます。"
   ]
  },
  {
   "cell_type": "markdown",
   "metadata": {
    "id": "EnxdBp8Pij3l"
   },
   "source": [
    "### ノック８１：画像データを読み込んでみよう"
   ]
  },
  {
   "cell_type": "code",
   "execution_count": 3,
   "metadata": {
    "colab": {
     "base_uri": "https://localhost:8080/",
     "height": 555
    },
    "id": "reP86-_Sij3l",
    "outputId": "b4a3b9e6-ac37-4bf5-fb4c-101fb66c845e"
   },
   "outputs": [
    {
     "name": "stdout",
     "output_type": "stream",
     "text": [
      "画像幅: 1920\n",
      "画像高さ: 1440\n"
     ]
    },
    {
     "data": {
      "text/plain": [
       "-1"
      ]
     },
     "execution_count": 3,
     "metadata": {},
     "output_type": "execute_result"
    }
   ],
   "source": [
    "import cv2\n",
    "# 画像読み込み\n",
    "img = cv2.imread(\"img/img01.jpg\")\n",
    "# img.shape: 行数,列数,チャンネル数(色相数)\n",
    "height, width = img.shape[:2]\n",
    "print(\"画像幅: \" + str(width))\n",
    "print(\"画像高さ: \" + str(height))\n",
    "# 画像の表示\n",
    "cv2.imshow(\"img\",img)\n",
    "# google_colabではopenCVの代わりにcv2_imshowを使用する\n",
    "# from google.colab.patches import cv2_imshow\n",
    "# cv2_imshow(img)\n",
    "\n",
    "# 画像を表示し続けるミリ秒数(ウィンドウを閉じるまでなら0を指定)\n",
    "cv2.waitKey(0)"
   ]
  },
  {
   "cell_type": "markdown",
   "metadata": {
    "id": "2RXHi1jEij3m"
   },
   "source": [
    "### ノック８２：映像データを読み込んでみよう"
   ]
  },
  {
   "cell_type": "code",
   "execution_count": 4,
   "metadata": {
    "colab": {
     "base_uri": "https://localhost:8080/",
     "height": 1000
    },
    "id": "Ygv7WWdEij3m",
    "outputId": "97ccd754-e0ef-4a1d-da3a-d647e18a4c6b"
   },
   "outputs": [
    {
     "name": "stdout",
     "output_type": "stream",
     "text": [
      "画像幅: 1920.0\n",
      "画像高さ: 1440.0\n",
      "総フレーム数: 401.0\n",
      "FPS: 30.0\n"
     ]
    }
   ],
   "source": [
    "import cv2\n",
    "\n",
    "# 情報取得 #\n",
    "# 映像読み込み\n",
    "cap = cv2.VideoCapture(\"mov/mov01.avi\")\n",
    "width = cap.get(cv2.CAP_PROP_FRAME_WIDTH) #幅\n",
    "height = cap.get(cv2.CAP_PROP_FRAME_HEIGHT) #高さ\n",
    "count = cap.get(cv2.CAP_PROP_FRAME_COUNT) #総フレーム数\n",
    "fps = cap.get(cv2.CAP_PROP_FPS) #FPS\n",
    "print(\"画像幅: \" + str(width))\n",
    "print(\"画像高さ: \" + str(height))\n",
    "print(\"総フレーム数: \" + str(count))\n",
    "print(\"FPS: \" + str(fps))\n",
    "\n",
    "# 出力 #\n",
    "while(cap.isOpened()):\n",
    "    # frame: 画像情報として扱える\n",
    "    ret, frame = cap.read()\n",
    "    if ret:\n",
    "        cv2.imshow(\"frame\", frame)\n",
    "    # 全フレームの処理終了or[q]キーで終了\n",
    "    if cv2.waitKey(1) & 0xFF == ord(\"q\"):\n",
    "        break\n",
    "# 後処理\n",
    "cap.release()\n",
    "cv2.destroyAllWindows()"
   ]
  },
  {
   "cell_type": "markdown",
   "metadata": {
    "id": "u33mA7sUij3n"
   },
   "source": [
    "### ノック８３：映像を画像に分割し、保存してみよう"
   ]
  },
  {
   "cell_type": "code",
   "execution_count": null,
   "metadata": {
    "id": "lfSJ77JKij3n"
   },
   "outputs": [],
   "source": [
    "import cv2\n",
    "cap = cv2.VideoCapture(\"mov/mov01.avi\")\n",
    "num = 0\n",
    "while(cap.isOpened()):\n",
    "    ret, frame = cap.read()\n",
    "    if ret:\n",
    "        cv2.imshow(\"frame\", frame)\n",
    "        filepath = \"snapshot/snapshot_\" + str(num) + \".jpg\"\n",
    "        # 画像書き出し\n",
    "        cv2.imwrite(filepath,frame)\n",
    "        if cv2.waitKey(1) & 0xFF == ord('q'):\n",
    "            break\n",
    "    num = num + 1\n",
    "\n",
    "cap.release()\n",
    "cv2.destroyAllWindows()"
   ]
  },
  {
   "cell_type": "markdown",
   "metadata": {
    "id": "R0v2owrYij3n"
   },
   "source": [
    "### ノック８４：画像内のどこに人がいるのかを検出してみよう"
   ]
  },
  {
   "cell_type": "code",
   "execution_count": 1,
   "metadata": {
    "id": "XZX3fpVAij3n",
    "outputId": "30944033-9dea-4dc6-8de4-f81d5ce4458a"
   },
   "outputs": [
    {
     "ename": "error",
     "evalue": "OpenCV(4.7.0) :-1: error: (-5:Bad argument) in function 'detectMultiScale'\n> Overload resolution failed:\n>  - 'finalThreshold' is an invalid keyword argument for HOGDescriptor.detectMultiScale()\n>  - 'finalThreshold' is an invalid keyword argument for HOGDescriptor.detectMultiScale()\n",
     "output_type": "error",
     "traceback": [
      "\u001b[1;31m---------------------------------------------------------------------------\u001b[0m",
      "\u001b[1;31merror\u001b[0m                                     Traceback (most recent call last)",
      "Input \u001b[1;32mIn [1]\u001b[0m, in \u001b[0;36m<cell line: 18>\u001b[1;34m()\u001b[0m\n\u001b[0;32m     16\u001b[0m gray \u001b[38;5;241m=\u001b[39m cv2\u001b[38;5;241m.\u001b[39mcvtColor(img, cv2\u001b[38;5;241m.\u001b[39mCOLOR_BGR2GRAY)\n\u001b[0;32m     17\u001b[0m \u001b[38;5;66;03m# 人の検出(位置情報はhumanに格納される)\u001b[39;00m\n\u001b[1;32m---> 18\u001b[0m human, r \u001b[38;5;241m=\u001b[39m hog\u001b[38;5;241m.\u001b[39mdetectMultiScale(gray, \u001b[38;5;241m*\u001b[39m\u001b[38;5;241m*\u001b[39mhogParams)\n\u001b[0;32m     20\u001b[0m \u001b[38;5;28;01mif\u001b[39;00m (\u001b[38;5;28mlen\u001b[39m(human)\u001b[38;5;241m>\u001b[39m\u001b[38;5;241m0\u001b[39m):\n\u001b[0;32m     21\u001b[0m     \u001b[38;5;28;01mfor\u001b[39;00m (x, y, w, h) \u001b[38;5;129;01min\u001b[39;00m human:\n\u001b[0;32m     22\u001b[0m         \u001b[38;5;66;03m# 画像に四角形を描く\u001b[39;00m\n",
      "\u001b[1;31merror\u001b[0m: OpenCV(4.7.0) :-1: error: (-5:Bad argument) in function 'detectMultiScale'\n> Overload resolution failed:\n>  - 'finalThreshold' is an invalid keyword argument for HOGDescriptor.detectMultiScale()\n>  - 'finalThreshold' is an invalid keyword argument for HOGDescriptor.detectMultiScale()\n"
     ]
    }
   ],
   "source": [
    "import cv2\n",
    "\n",
    "# 準備 #\n",
    "# HOG特徴量: Histogram of Oriented Gradients(輝度勾配)\n",
    "# ヒトのシルエットを見て、形の特徴を位置や角度で表現するもの\n",
    "# 人の認識を簡単に行うために使用\n",
    "\n",
    "hog = cv2.HOGDescriptor()\n",
    "# ヒトのモデル情報セット\n",
    "hog.setSVMDetector(cv2.HOGDescriptor_getDefaultPeopleDetector())\n",
    "hogParams = {'winStride': (8, 8), 'padding': (32, 32), 'scale': 1.05, 'hitThreshold':0, 'finalThreshold':5}\n",
    "\n",
    "# 検出 #\n",
    "img = cv2.imread(\"img/img01.jpg\")\n",
    "# 画像のモノクロ化\n",
    "gray = cv2.cvtColor(img, cv2.COLOR_BGR2GRAY)\n",
    "# 人の検出(位置情報はhumanに格納される)\n",
    "human, r = hog.detectMultiScale(gray, **hogParams)\n",
    "\n",
    "if (len(human)>0):\n",
    "    for (x, y, w, h) in human:\n",
    "        # 画像に四角形を描く\n",
    "        cv2.rectangle(img, (x, y), (x + w, y + h), (255,255,255), 3)\n",
    "\n",
    "# cv2.imshow(\"img\",img)\n",
    "cv2_imshow(img)\n",
    "cv2.imwrite(\"temp.jpg\",img)\n",
    "cv2.waitKey(0)"
   ]
  },
  {
   "cell_type": "markdown",
   "metadata": {
    "id": "pK99r_Rjij3n"
   },
   "source": [
    "### ノック８５：画像内の人の顔を検出してみよう"
   ]
  },
  {
   "cell_type": "code",
   "execution_count": 2,
   "metadata": {
    "id": "H7P4IuLfij3o",
    "outputId": "7efbe660-b14a-4251-b74a-1b471b09b906"
   },
   "outputs": [
    {
     "data": {
      "text/plain": [
       "-1"
      ]
     },
     "execution_count": 2,
     "metadata": {},
     "output_type": "execute_result"
    }
   ],
   "source": [
    "import cv2\n",
    "\n",
    "# 準備\n",
    "# 正面顔を認識するモデル(横顔や目,鼻などもある)\n",
    "cascade_file = \"haarcascade_frontalface_alt.xml\"\n",
    "# 顔検出にはCascadeClassifierが伝統的に使われている\n",
    "# 顔検出や個人認証の分野には長い歴史があるため、深掘りして性能比較をしても良いかも\n",
    "cascade = cv2.CascadeClassifier(cascade_file)\n",
    "\n",
    "# 検出\n",
    "img = cv2.imread(\"img/img02.jpg\")\n",
    "# グレースケール\n",
    "gray = cv2.cvtColor(img, cv2.COLOR_BGR2GRAY)\n",
    "# 検出の実行\n",
    "face_list = cascade.detectMultiScale(gray, minSize=(50, 50))\n",
    "\n",
    "# 検出した顔に印を付ける\n",
    "for (x, y, w, h) in face_list:\n",
    "    color = (0, 0, 225)\n",
    "    pen_w = 3\n",
    "    cv2.rectangle(img, (x, y), (x+w, y+h), color, thickness = pen_w)\n",
    "\n",
    "cv2.imshow(\"img\",img)\n",
    "cv2.imwrite(\"temp.jpg\",img)\n",
    "cv2.waitKey(0)"
   ]
  },
  {
   "cell_type": "markdown",
   "metadata": {
    "id": "IsDAsKkxij3o"
   },
   "source": [
    "### ノック８６：画像内の人がどこに顔を向けているのかを検出してみよう"
   ]
  },
  {
   "cell_type": "code",
   "execution_count": 5,
   "metadata": {},
   "outputs": [
    {
     "name": "stdout",
     "output_type": "stream",
     "text": [
      "Collecting dlib\n",
      "  Downloading dlib-19.24.1.tar.gz (3.2 MB)\n",
      "     ---------------------------------------- 3.2/3.2 MB 7.1 MB/s eta 0:00:00\n",
      "  Preparing metadata (setup.py): started\n",
      "  Preparing metadata (setup.py): finished with status 'done'\n",
      "Building wheels for collected packages: dlib\n",
      "  Building wheel for dlib (setup.py): started\n",
      "  Building wheel for dlib (setup.py): finished with status 'error'\n",
      "  Running setup.py clean for dlib\n",
      "Failed to build dlib\n",
      "Installing collected packages: dlib\n",
      "  Running setup.py install for dlib: started\n",
      "  Running setup.py install for dlib: finished with status 'error'\n"
     ]
    },
    {
     "name": "stderr",
     "output_type": "stream",
     "text": [
      "  error: subprocess-exited-with-error\n",
      "  \n",
      "  python setup.py bdist_wheel did not run successfully.\n",
      "  exit code: 1\n",
      "  \n",
      "  [7 lines of output]\n",
      "  running bdist_wheel\n",
      "  running build\n",
      "  running build_py\n",
      "  running build_ext\n",
      "  \n",
      "  ERROR: CMake must be installed to build dlib\n",
      "  \n",
      "  [end of output]\n",
      "  \n",
      "  note: This error originates from a subprocess, and is likely not a problem with pip.\n",
      "  ERROR: Failed building wheel for dlib\n",
      "  error: subprocess-exited-with-error\n",
      "  \n",
      "  Running setup.py install for dlib did not run successfully.\n",
      "  exit code: 1\n",
      "  \n",
      "  [9 lines of output]\n",
      "  running install\n",
      "  C:\\Users\\yujit\\anaconda3\\lib\\site-packages\\setuptools\\command\\install.py:34: SetuptoolsDeprecationWarning: setup.py install is deprecated. Use build and pip and other standards-based tools.\n",
      "    warnings.warn(\n",
      "  running build\n",
      "  running build_py\n",
      "  running build_ext\n",
      "  \n",
      "  ERROR: CMake must be installed to build dlib\n",
      "  \n",
      "  [end of output]\n",
      "  \n",
      "  note: This error originates from a subprocess, and is likely not a problem with pip.\n",
      "error: legacy-install-failure\n",
      "\n",
      "Encountered error while trying to install package.\n",
      "\n",
      "dlib\n",
      "\n",
      "note: This is an issue with the package mentioned above, not pip.\n",
      "hint: See above for output from the failure.\n"
     ]
    }
   ],
   "source": [
    "!pip install dlib"
   ]
  },
  {
   "cell_type": "code",
   "execution_count": 3,
   "metadata": {
    "id": "JROBEP_eij3o",
    "outputId": "2318bedd-f683-4105-f959-053a0715cd59"
   },
   "outputs": [
    {
     "ename": "ModuleNotFoundError",
     "evalue": "No module named 'dlib'",
     "output_type": "error",
     "traceback": [
      "\u001b[1;31m---------------------------------------------------------------------------\u001b[0m",
      "\u001b[1;31mModuleNotFoundError\u001b[0m                       Traceback (most recent call last)",
      "Input \u001b[1;32mIn [3]\u001b[0m, in \u001b[0;36m<cell line: 6>\u001b[1;34m()\u001b[0m\n\u001b[0;32m      1\u001b[0m \u001b[38;5;28;01mimport\u001b[39;00m \u001b[38;5;21;01mcv2\u001b[39;00m\n\u001b[0;32m      2\u001b[0m \u001b[38;5;66;03m# 顔器官(フェイス・ランドマーク)と言われる目・鼻・口・輪郭を68の特徴点で表現することができる\u001b[39;00m\n\u001b[0;32m      3\u001b[0m \u001b[38;5;66;03m# 人がどこに顔を向けているか等の細かな情報を検出できる\u001b[39;00m\n\u001b[0;32m      4\u001b[0m \u001b[38;5;66;03m# 具体的には、輪郭の重心と内側の重心の差から顔の方位を割り出している\u001b[39;00m\n\u001b[0;32m      5\u001b[0m \u001b[38;5;66;03m# 詳しくは専門書を読む\u001b[39;00m\n\u001b[1;32m----> 6\u001b[0m \u001b[38;5;28;01mimport\u001b[39;00m \u001b[38;5;21;01mdlib\u001b[39;00m\n\u001b[0;32m      7\u001b[0m \u001b[38;5;28;01mimport\u001b[39;00m \u001b[38;5;21;01mmath\u001b[39;00m\n\u001b[0;32m      9\u001b[0m \u001b[38;5;66;03m# 準備 #\u001b[39;00m\n\u001b[0;32m     10\u001b[0m \u001b[38;5;66;03m# 68個の顔器官のモデルの読み込み\u001b[39;00m\n",
      "\u001b[1;31mModuleNotFoundError\u001b[0m: No module named 'dlib'"
     ]
    }
   ],
   "source": [
    "import cv2\n",
    "# 顔器官(フェイス・ランドマーク)と言われる目・鼻・口・輪郭を68の特徴点で表現することができる\n",
    "# 人がどこに顔を向けているか等の細かな情報を検出できる\n",
    "# 具体的には、輪郭の重心と内側の重心の差から顔の方位を割り出している\n",
    "# 詳しくは専門書を読む\n",
    "import dlib\n",
    "import math\n",
    "\n",
    "# 準備 #\n",
    "# 68個の顔器官のモデルの読み込み\n",
    "predictor = dlib.shape_predictor(\"shape_predictor_68_face_landmarks.dat\")\n",
    "# 正面顔のモデルの読み込み\n",
    "detector = dlib.get_frontal_face_detector()\n",
    "\n",
    "# 検出 #\n",
    "img = cv2.imread(\"img/img02.jpg\")\n",
    "dets = detector(img, 1)\n",
    "\n",
    "for k, d in enumerate(dets):\n",
    "    shape = predictor(img, d)\n",
    "\n",
    "    # 顔領域の表示\n",
    "    color_f = (0, 0, 225)\n",
    "    color_l_out = (255, 0, 0)\n",
    "    color_l_in = (0, 255, 0)\n",
    "    line_w = 3\n",
    "    circle_r = 3\n",
    "    fontType = cv2.FONT_HERSHEY_SIMPLEX\n",
    "    fontSize = 1\n",
    "    cv2.rectangle(img, (d.left(), d.top()), (d.right(), d.bottom()), color_f, line_w)\n",
    "    cv2.putText(img, str(k), (d.left(), d.top()), fontType, fontSize, color_f, line_w)\n",
    "\n",
    "    # 重心を導出する箱を用意\n",
    "    num_of_points_out = 17\n",
    "    num_of_points_in = shape.num_parts - num_of_points_out\n",
    "    gx_out = 0\n",
    "    gy_out = 0\n",
    "    gx_in = 0\n",
    "    gy_in = 0\n",
    "    for shape_point_count in range(shape.num_parts):\n",
    "        shape_point = shape.part(shape_point_count)\n",
    "        #print(\"顔器官No.{} 座標位置: ({},{})\".format(shape_point_count, shape_point.x, shape_point.y))\n",
    "        #器官ごとに描画\n",
    "        if shape_point_count<num_of_points_out:\n",
    "            cv2.circle(img,(shape_point.x, shape_point.y),circle_r,color_l_out, line_w)\n",
    "            gx_out = gx_out + shape_point.x/num_of_points_out\n",
    "            gy_out = gy_out + shape_point.y/num_of_points_out\n",
    "        else:\n",
    "            cv2.circle(img,(shape_point.x, shape_point.y),circle_r,color_l_in, line_w)\n",
    "            gx_in = gx_in + shape_point.x/num_of_points_in\n",
    "            gy_in = gy_in + shape_point.y/num_of_points_in\n",
    "\n",
    "    # 重心位置を描画\n",
    "    cv2.circle(img,(int(gx_out), int(gy_out)),circle_r,(0,0,255), line_w)\n",
    "    cv2.circle(img,(int(gx_in), int(gy_in)),circle_r,(0,0,0), line_w)\n",
    "\n",
    "    # 顔の方位を計算\n",
    "    theta = math.asin(2*(gx_in-gx_out)/(d.right()-d.left()))\n",
    "    radian = theta*180/math.pi\n",
    "    print(\"顔方位:{} (角度:{}度)\".format(theta,radian))\n",
    "\n",
    "    # 顔方位を表示\n",
    "    if radian<0:\n",
    "        textPrefix = \"   left \"\n",
    "    else:\n",
    "        textPrefix = \"   right \"\n",
    "    textShow = textPrefix + str(round(abs(radian),1)) + \" deg.\"\n",
    "    cv2.putText(img, textShow, (d.left(), d.top()), fontType, fontSize, color_f, line_w)\n",
    "\n",
    "\n",
    "cv2.imshow(\"img\",img)\n",
    "cv2.imwrite(\"temp.jpg\",img)\n",
    "cv2.waitKey(0)"
   ]
  },
  {
   "cell_type": "markdown",
   "metadata": {
    "id": "kDAk9Qhoij3p"
   },
   "source": [
    "### ノック８７：検出した情報を統合し、タイムラプスを作ってみよう"
   ]
  },
  {
   "cell_type": "code",
   "execution_count": 7,
   "metadata": {
    "id": "qoZRNzMUij3p",
    "outputId": "b1488dc0-84ab-4986-aba2-9d4b969b825c"
   },
   "outputs": [
    {
     "name": "stdout",
     "output_type": "stream",
     "text": [
      "タイムラプス生成を開始します\n"
     ]
    },
    {
     "ename": "error",
     "evalue": "OpenCV(4.7.0) :-1: error: (-5:Bad argument) in function 'detectMultiScale'\n> Overload resolution failed:\n>  - Argument 'hitThreshold' can not be treated as a double\n>  - Argument 'hitThreshold' can not be treated as a double\n",
     "output_type": "error",
     "traceback": [
      "\u001b[1;31m---------------------------------------------------------------------------\u001b[0m",
      "\u001b[1;31merror\u001b[0m                                     Traceback (most recent call last)",
      "Input \u001b[1;32mIn [7]\u001b[0m, in \u001b[0;36m<cell line: 26>\u001b[1;34m()\u001b[0m\n\u001b[0;32m     30\u001b[0m \u001b[38;5;28;01mif\u001b[39;00m (num \u001b[38;5;241m%\u001b[39m \u001b[38;5;241m10\u001b[39m \u001b[38;5;241m==\u001b[39m \u001b[38;5;241m0\u001b[39m):\n\u001b[0;32m     31\u001b[0m     gray \u001b[38;5;241m=\u001b[39m cv2\u001b[38;5;241m.\u001b[39mcvtColor(frame, cv2\u001b[38;5;241m.\u001b[39mCOLOR_BGR2GRAY)\n\u001b[1;32m---> 32\u001b[0m     human, r \u001b[38;5;241m=\u001b[39m \u001b[43mhog\u001b[49m\u001b[38;5;241;43m.\u001b[39;49m\u001b[43mdetectMultiScale\u001b[49m\u001b[43m(\u001b[49m\u001b[43mgray\u001b[49m\u001b[43m,\u001b[49m\u001b[43m \u001b[49m\u001b[43mhogParams\u001b[49m\u001b[43m)\u001b[49m\n\u001b[0;32m     33\u001b[0m     \u001b[38;5;28;01mif\u001b[39;00m (\u001b[38;5;28mlen\u001b[39m(human)\u001b[38;5;241m>\u001b[39m\u001b[38;5;241m0\u001b[39m):\n\u001b[0;32m     34\u001b[0m         \u001b[38;5;28;01mfor\u001b[39;00m (x, y, w, h) \u001b[38;5;129;01min\u001b[39;00m human:\n",
      "\u001b[1;31merror\u001b[0m: OpenCV(4.7.0) :-1: error: (-5:Bad argument) in function 'detectMultiScale'\n> Overload resolution failed:\n>  - Argument 'hitThreshold' can not be treated as a double\n>  - Argument 'hitThreshold' can not be treated as a double\n"
     ]
    }
   ],
   "source": [
    "import cv2\n",
    "# タイムラプス: 数フレームから1フレームのみを取り出した早送り動画\n",
    "# 目で動画の傾向を簡単に掴むのに適している\n",
    "# デモ映像としても利用でき、分析結果に対する説得力を高めることにも効果的\n",
    "print(\"タイムラプス生成を開始します\")\n",
    "\n",
    "# 映像取得 #\n",
    "cap = cv2.VideoCapture(\"mov/mov01.avi\")\n",
    "width = int(cap.get(cv2.CAP_PROP_FRAME_WIDTH))\n",
    "height = int(cap.get(cv2.CAP_PROP_FRAME_HEIGHT))\n",
    "\n",
    "# hog宣言 #\n",
    "hog = cv2.HOGDescriptor()\n",
    "hog.setSVMDetector(cv2.HOGDescriptor_getDefaultPeopleDetector())\n",
    "hogParams = {'winStride': (8, 8), 'padding': (32, 32), 'scale': 1.05, 'hitThreshold':0, 'finalThreshold':5}\n",
    "\n",
    "# タイムラプス作成 #\n",
    "movie_name = \"timelapse.avi\"\n",
    "# VideoWriter_fourcc: 動画ファイル作成\n",
    "# FourCCと呼ばれる動画のデータフォーマットを識別する四文字を指定し、任意の形式の動画ファイルを作成する\n",
    "# 下記はAVI形式\n",
    "fourcc = cv2.VideoWriter_fourcc('X', 'V', 'I', 'D')\n",
    "video = cv2.VideoWriter(movie_name,fourcc, 30, (width,height))\n",
    "\n",
    "num = 0\n",
    "while(cap.isOpened()):\n",
    "    ret, frame = cap.read()\n",
    "    if ret:\n",
    "        # 10フレームごとに保存\n",
    "        if (num % 10 == 0):\n",
    "            gray = cv2.cvtColor(frame, cv2.COLOR_BGR2GRAY)\n",
    "            human, r = hog.detectMultiScale(gray, **hogParams)\n",
    "            if (len(human)>0):\n",
    "                for (x, y, w, h) in human:\n",
    "                    cv2.rectangle(frame, (x, y), (x + w, y + h), (255,255,255), 3)\n",
    "            # フレームを格納\n",
    "            video.write(frame)\n",
    "    else:\n",
    "        break\n",
    "    num = num + 1\n",
    "video.release()\n",
    "# 動画の生成\n",
    "cap.release()\n",
    "cv2.destroyAllWindows()\n",
    "print(\"タイムラプス生成を終了しました\")"
   ]
  },
  {
   "cell_type": "markdown",
   "metadata": {
    "id": "rWzwvWlIij3p"
   },
   "source": [
    "### ノック８８：全体像をグラフにして可視化してみよう"
   ]
  },
  {
   "cell_type": "code",
   "execution_count": 8,
   "metadata": {
    "id": "quHa70kuij3p",
    "outputId": "c6555a64-8c89-4d38-f7a9-6b5cb3aa5b7a"
   },
   "outputs": [
    {
     "name": "stdout",
     "output_type": "stream",
     "text": [
      "分析を開始します\n"
     ]
    },
    {
     "ename": "error",
     "evalue": "OpenCV(4.7.0) :-1: error: (-5:Bad argument) in function 'detectMultiScale'\n> Overload resolution failed:\n>  - 'finalThreshold' is an invalid keyword argument for HOGDescriptor.detectMultiScale()\n>  - 'finalThreshold' is an invalid keyword argument for HOGDescriptor.detectMultiScale()\n",
     "output_type": "error",
     "traceback": [
      "\u001b[1;31m---------------------------------------------------------------------------\u001b[0m",
      "\u001b[1;31merror\u001b[0m                                     Traceback (most recent call last)",
      "Input \u001b[1;32mIn [8]\u001b[0m, in \u001b[0;36m<cell line: 16>\u001b[1;34m()\u001b[0m\n\u001b[0;32m     19\u001b[0m \u001b[38;5;28;01mif\u001b[39;00m (num \u001b[38;5;241m%\u001b[39m \u001b[38;5;241m10\u001b[39m \u001b[38;5;241m==\u001b[39m \u001b[38;5;241m0\u001b[39m):\n\u001b[0;32m     20\u001b[0m     gray \u001b[38;5;241m=\u001b[39m cv2\u001b[38;5;241m.\u001b[39mcvtColor(frame, cv2\u001b[38;5;241m.\u001b[39mCOLOR_BGR2GRAY)\n\u001b[1;32m---> 21\u001b[0m     human, r \u001b[38;5;241m=\u001b[39m hog\u001b[38;5;241m.\u001b[39mdetectMultiScale(gray, \u001b[38;5;241m*\u001b[39m\u001b[38;5;241m*\u001b[39mhogParams)\n\u001b[0;32m     22\u001b[0m     \u001b[38;5;28;01mif\u001b[39;00m (\u001b[38;5;28mlen\u001b[39m(human)\u001b[38;5;241m>\u001b[39m\u001b[38;5;241m0\u001b[39m):\n\u001b[0;32m     23\u001b[0m         \u001b[38;5;28;01mfor\u001b[39;00m (x, y, w, h) \u001b[38;5;129;01min\u001b[39;00m human:\n",
      "\u001b[1;31merror\u001b[0m: OpenCV(4.7.0) :-1: error: (-5:Bad argument) in function 'detectMultiScale'\n> Overload resolution failed:\n>  - 'finalThreshold' is an invalid keyword argument for HOGDescriptor.detectMultiScale()\n>  - 'finalThreshold' is an invalid keyword argument for HOGDescriptor.detectMultiScale()\n"
     ]
    }
   ],
   "source": [
    "import cv2\n",
    "import pandas as pd\n",
    "\n",
    "print(\"分析を開始します\")\n",
    "# 映像取得 #\n",
    "cap = cv2.VideoCapture(\"mov/mov01.avi\")\n",
    "fps = cap.get(cv2.CAP_PROP_FPS)\n",
    "\n",
    "# hog宣言 #\n",
    "hog = cv2.HOGDescriptor()\n",
    "hog.setSVMDetector(cv2.HOGDescriptor_getDefaultPeopleDetector())\n",
    "hogParams = {'winStride': (8, 8), 'padding': (32, 32), 'scale': 1.05, 'hitThreshold':0, 'finalThreshold':5}\n",
    "\n",
    "num = 0\n",
    "list_df = pd.DataFrame( columns=['time','people'] )\n",
    "while(cap.isOpened()):\n",
    "    ret, frame = cap.read()\n",
    "    if ret:\n",
    "        if (num % 10 == 0):\n",
    "            gray = cv2.cvtColor(frame, cv2.COLOR_BGR2GRAY)\n",
    "            human, r = hog.detectMultiScale(gray, **hogParams)\n",
    "            if (len(human)>0):\n",
    "                for (x, y, w, h) in human:\n",
    "                    cv2.rectangle(frame, (x, y), (x + w, y + h), (255,255,255), 3)\n",
    "            # フレーム番号/fps(=秒数), ヒトの数\n",
    "            tmp_se = pd.Series([num / fps, len(human)], index=list_df.columns)\n",
    "            list_df = list_df.append( tmp_se, ignore_index=True )       \n",
    "            if cv2.waitKey(1) & 0xFF == ord('q'):\n",
    "                break\n",
    "    else:\n",
    "        break\n",
    "    num = num + 1\n",
    "cap.release()\n",
    "cv2.destroyAllWindows()\n",
    "print(\"分析を終了しました\")"
   ]
  },
  {
   "cell_type": "code",
   "execution_count": 9,
   "metadata": {
    "id": "ipMR8ldcij3q",
    "outputId": "25daa8b7-0838-4e0d-dea6-8479c8256568"
   },
   "outputs": [
    {
     "data": {
      "image/png": "[encoded data removed]",
      "text/plain": [
       "<Figure size 432x288 with 1 Axes>"
      ]
     },
     "metadata": {
      "needs_background": "light"
     },
     "output_type": "display_data"
    }
   ],
   "source": [
    "import matplotlib.pyplot as plt\n",
    "# 時間経過による人数の変化\n",
    "plt.plot(list_df[\"time\"], list_df[\"people\"])\n",
    "plt.xlabel('time(sec.)')\n",
    "plt.ylabel('population')\n",
    "plt.ylim(0,15)\n",
    "plt.show()"
   ]
  },
  {
   "cell_type": "markdown",
   "metadata": {
    "id": "QkLDn5npij3q"
   },
   "source": [
    "### ノック８９：人通りの変化をグラフで確認しよう"
   ]
  },
  {
   "cell_type": "code",
   "execution_count": 10,
   "metadata": {
    "id": "bPA2yN7Lij3q",
    "outputId": "20318362-c07a-4dd8-fbee-c62d764feab9"
   },
   "outputs": [
    {
     "name": "stdout",
     "output_type": "stream",
     "text": [
      "分析を開始します\n"
     ]
    },
    {
     "ename": "error",
     "evalue": "OpenCV(4.7.0) :-1: error: (-5:Bad argument) in function 'detectMultiScale'\n> Overload resolution failed:\n>  - 'finalThreshold' is an invalid keyword argument for HOGDescriptor.detectMultiScale()\n>  - 'finalThreshold' is an invalid keyword argument for HOGDescriptor.detectMultiScale()\n",
     "output_type": "error",
     "traceback": [
      "\u001b[1;31m---------------------------------------------------------------------------\u001b[0m",
      "\u001b[1;31merror\u001b[0m                                     Traceback (most recent call last)",
      "Input \u001b[1;32mIn [10]\u001b[0m, in \u001b[0;36m<cell line: 16>\u001b[1;34m()\u001b[0m\n\u001b[0;32m     19\u001b[0m \u001b[38;5;28;01mif\u001b[39;00m (num\u001b[38;5;241m%\u001b[39m\u001b[38;5;241m10\u001b[39m\u001b[38;5;241m==\u001b[39m\u001b[38;5;241m0\u001b[39m):\n\u001b[0;32m     20\u001b[0m     gray \u001b[38;5;241m=\u001b[39m cv2\u001b[38;5;241m.\u001b[39mcvtColor(frame, cv2\u001b[38;5;241m.\u001b[39mCOLOR_BGR2GRAY)\n\u001b[1;32m---> 21\u001b[0m     human, r \u001b[38;5;241m=\u001b[39m hog\u001b[38;5;241m.\u001b[39mdetectMultiScale(gray, \u001b[38;5;241m*\u001b[39m\u001b[38;5;241m*\u001b[39mhogParams)\n\u001b[0;32m     22\u001b[0m     \u001b[38;5;28;01mif\u001b[39;00m (\u001b[38;5;28mlen\u001b[39m(human)\u001b[38;5;241m>\u001b[39m\u001b[38;5;241m0\u001b[39m):\n\u001b[0;32m     23\u001b[0m         \u001b[38;5;28;01mfor\u001b[39;00m (x, y, w, h) \u001b[38;5;129;01min\u001b[39;00m human:\n",
      "\u001b[1;31merror\u001b[0m: OpenCV(4.7.0) :-1: error: (-5:Bad argument) in function 'detectMultiScale'\n> Overload resolution failed:\n>  - 'finalThreshold' is an invalid keyword argument for HOGDescriptor.detectMultiScale()\n>  - 'finalThreshold' is an invalid keyword argument for HOGDescriptor.detectMultiScale()\n"
     ]
    }
   ],
   "source": [
    "import cv2\n",
    "import pandas as pd\n",
    "\n",
    "print(\"分析を開始します\")\n",
    "# 映像取得 #\n",
    "cap = cv2.VideoCapture(\"mov/mov02.avi\")\n",
    "fps = cap.get(cv2.CAP_PROP_FPS)\n",
    "\n",
    "# hog宣言 #\n",
    "hog = cv2.HOGDescriptor()\n",
    "hog.setSVMDetector(cv2.HOGDescriptor_getDefaultPeopleDetector())\n",
    "hogParams = {'winStride': (8, 8), 'padding': (32, 32), 'scale': 1.05, 'hitThreshold':0, 'finalThreshold':5}\n",
    "\n",
    "num = 0\n",
    "list_df2 = pd.DataFrame( columns=['time','people'] )\n",
    "while(cap.isOpened()):\n",
    "    ret, frame = cap.read()\n",
    "    if ret:\n",
    "        if (num%10==0):\n",
    "            gray = cv2.cvtColor(frame, cv2.COLOR_BGR2GRAY)\n",
    "            human, r = hog.detectMultiScale(gray, **hogParams)\n",
    "            if (len(human)>0):\n",
    "                for (x, y, w, h) in human:\n",
    "                    cv2.rectangle(frame, (x, y), (x + w, y + h), (255,255,255), 3)\n",
    "            tmp_se = pd.Series( [num/fps,len(human) ], index=list_df.columns )\n",
    "            list_df2 = list_df2.append( tmp_se, ignore_index=True )       \n",
    "            if cv2.waitKey(1) & 0xFF == ord('q'):\n",
    "                break\n",
    "    else:\n",
    "        break\n",
    "    num = num + 1\n",
    "cap.release()\n",
    "cv2.destroyAllWindows()\n",
    "print(\"分析を終了しました\")"
   ]
  },
  {
   "cell_type": "code",
   "execution_count": null,
   "metadata": {
    "id": "AYrUWgifij3q",
    "outputId": "d1299d47-b978-49fd-86f3-9d0c8072f524"
   },
   "outputs": [],
   "source": [
    "import matplotlib.pyplot as plt\n",
    "plt.plot(list_df2[\"time\"], list_df2[\"people\"])\n",
    "plt.xlabel('time(sec.)')\n",
    "plt.ylabel('population')\n",
    "plt.ylim(0,15)\n",
    "plt.show()"
   ]
  },
  {
   "cell_type": "markdown",
   "metadata": {
    "id": "C-psXWcHij3r"
   },
   "source": [
    "### ノック９０：移動平均を計算することでノイズの影響を除去しよう"
   ]
  },
  {
   "cell_type": "code",
   "execution_count": 13,
   "metadata": {
    "id": "njAD_u10ij3r"
   },
   "outputs": [],
   "source": [
    "# hogで分析したデータはノイズが多い\n",
    "# ある程度の時間の平均(移動平均)を計算することでノイズの影響を軽減する\n",
    "\n",
    "import numpy as np\n",
    "def moving_average(x, y):\n",
    "    # np.convolve: 畳み込み積分,移動平均\n",
    "    y_conv = np.convolve(y, np.ones(5)/float(5), mode='valid')\n",
    "    # np.convolve: 等差数列を作成する関数(開始,終了,数)\n",
    "    x_dat = np.linspace(np.min(x), np.max(x), np.size(y_conv))\n",
    "    return x_dat, y_conv"
   ]
  },
  {
   "cell_type": "code",
   "execution_count": 12,
   "metadata": {
    "id": "UJ68NS41ij3r",
    "outputId": "cca0a0f3-126d-4cc9-a489-da0e8aed6039"
   },
   "outputs": [
    {
     "ename": "ValueError",
     "evalue": "v cannot be empty",
     "output_type": "error",
     "traceback": [
      "\u001b[1;31m---------------------------------------------------------------------------\u001b[0m",
      "\u001b[1;31mValueError\u001b[0m                                Traceback (most recent call last)",
      "Input \u001b[1;32mIn [12]\u001b[0m, in \u001b[0;36m<cell line: 2>\u001b[1;34m()\u001b[0m\n\u001b[0;32m      1\u001b[0m plt\u001b[38;5;241m.\u001b[39mplot(list_df[\u001b[38;5;124m\"\u001b[39m\u001b[38;5;124mtime\u001b[39m\u001b[38;5;124m\"\u001b[39m], list_df[\u001b[38;5;124m\"\u001b[39m\u001b[38;5;124mpeople\u001b[39m\u001b[38;5;124m\"\u001b[39m], label\u001b[38;5;241m=\u001b[39m\u001b[38;5;124m\"\u001b[39m\u001b[38;5;124mraw\u001b[39m\u001b[38;5;124m\"\u001b[39m)\n\u001b[1;32m----> 2\u001b[0m ma_x, ma_y \u001b[38;5;241m=\u001b[39m \u001b[43mmoving_average\u001b[49m\u001b[43m(\u001b[49m\u001b[43mlist_df\u001b[49m\u001b[43m[\u001b[49m\u001b[38;5;124;43m\"\u001b[39;49m\u001b[38;5;124;43mtime\u001b[39;49m\u001b[38;5;124;43m\"\u001b[39;49m\u001b[43m]\u001b[49m\u001b[43m,\u001b[49m\u001b[43m \u001b[49m\u001b[43mlist_df\u001b[49m\u001b[43m[\u001b[49m\u001b[38;5;124;43m\"\u001b[39;49m\u001b[38;5;124;43mpeople\u001b[39;49m\u001b[38;5;124;43m\"\u001b[39;49m\u001b[43m]\u001b[49m\u001b[43m)\u001b[49m\n\u001b[0;32m      3\u001b[0m plt\u001b[38;5;241m.\u001b[39mplot(ma_x,ma_y, label\u001b[38;5;241m=\u001b[39m\u001b[38;5;124m\"\u001b[39m\u001b[38;5;124maverage\u001b[39m\u001b[38;5;124m\"\u001b[39m)\n\u001b[0;32m      4\u001b[0m plt\u001b[38;5;241m.\u001b[39mxlabel(\u001b[38;5;124m'\u001b[39m\u001b[38;5;124mtime(sec.)\u001b[39m\u001b[38;5;124m'\u001b[39m)\n",
      "Input \u001b[1;32mIn [11]\u001b[0m, in \u001b[0;36mmoving_average\u001b[1;34m(x, y)\u001b[0m\n\u001b[0;32m      4\u001b[0m \u001b[38;5;28;01mdef\u001b[39;00m \u001b[38;5;21mmoving_average\u001b[39m(x, y):\n\u001b[1;32m----> 5\u001b[0m     y_conv \u001b[38;5;241m=\u001b[39m \u001b[43mnp\u001b[49m\u001b[38;5;241;43m.\u001b[39;49m\u001b[43mconvolve\u001b[49m\u001b[43m(\u001b[49m\u001b[43my\u001b[49m\u001b[43m,\u001b[49m\u001b[43m \u001b[49m\u001b[43mnp\u001b[49m\u001b[38;5;241;43m.\u001b[39;49m\u001b[43mones\u001b[49m\u001b[43m(\u001b[49m\u001b[38;5;241;43m5\u001b[39;49m\u001b[43m)\u001b[49m\u001b[38;5;241;43m/\u001b[39;49m\u001b[38;5;28;43mfloat\u001b[39;49m\u001b[43m(\u001b[49m\u001b[38;5;241;43m5\u001b[39;49m\u001b[43m)\u001b[49m\u001b[43m,\u001b[49m\u001b[43m \u001b[49m\u001b[43mmode\u001b[49m\u001b[38;5;241;43m=\u001b[39;49m\u001b[38;5;124;43m'\u001b[39;49m\u001b[38;5;124;43mvalid\u001b[39;49m\u001b[38;5;124;43m'\u001b[39;49m\u001b[43m)\u001b[49m\n\u001b[0;32m      6\u001b[0m     x_dat \u001b[38;5;241m=\u001b[39m np\u001b[38;5;241m.\u001b[39mlinspace(np\u001b[38;5;241m.\u001b[39mmin(x), np\u001b[38;5;241m.\u001b[39mmax(x), np\u001b[38;5;241m.\u001b[39msize(y_conv))\n\u001b[0;32m      7\u001b[0m     \u001b[38;5;28;01mreturn\u001b[39;00m x_dat, y_conv\n",
      "File \u001b[1;32m<__array_function__ internals>:5\u001b[0m, in \u001b[0;36mconvolve\u001b[1;34m(*args, **kwargs)\u001b[0m\n",
      "File \u001b[1;32m~\\anaconda3\\lib\\site-packages\\numpy\\core\\numeric.py:843\u001b[0m, in \u001b[0;36mconvolve\u001b[1;34m(a, v, mode)\u001b[0m\n\u001b[0;32m    841\u001b[0m     \u001b[38;5;28;01mraise\u001b[39;00m \u001b[38;5;167;01mValueError\u001b[39;00m(\u001b[38;5;124m'\u001b[39m\u001b[38;5;124ma cannot be empty\u001b[39m\u001b[38;5;124m'\u001b[39m)\n\u001b[0;32m    842\u001b[0m \u001b[38;5;28;01mif\u001b[39;00m \u001b[38;5;28mlen\u001b[39m(v) \u001b[38;5;241m==\u001b[39m \u001b[38;5;241m0\u001b[39m:\n\u001b[1;32m--> 843\u001b[0m     \u001b[38;5;28;01mraise\u001b[39;00m \u001b[38;5;167;01mValueError\u001b[39;00m(\u001b[38;5;124m'\u001b[39m\u001b[38;5;124mv cannot be empty\u001b[39m\u001b[38;5;124m'\u001b[39m)\n\u001b[0;32m    844\u001b[0m \u001b[38;5;28;01mreturn\u001b[39;00m multiarray\u001b[38;5;241m.\u001b[39mcorrelate(a, v[::\u001b[38;5;241m-\u001b[39m\u001b[38;5;241m1\u001b[39m], mode)\n",
      "\u001b[1;31mValueError\u001b[0m: v cannot be empty"
     ]
    },
    {
     "data": {
      "image/png": "[encoded data removed]",
      "text/plain": [
       "<Figure size 432x288 with 1 Axes>"
      ]
     },
     "metadata": {
      "needs_background": "light"
     },
     "output_type": "display_data"
    }
   ],
   "source": [
    "plt.plot(list_df[\"time\"], list_df[\"people\"], label=\"raw\")\n",
    "ma_x, ma_y = moving_average(list_df[\"time\"], list_df[\"people\"])\n",
    "plt.plot(ma_x,ma_y, label=\"average\")\n",
    "plt.xlabel('time(sec.)')\n",
    "plt.ylabel('population')\n",
    "plt.ylim(0,15)\n",
    "plt.legend()\n",
    "plt.show()"
   ]
  },
  {
   "cell_type": "code",
   "execution_count": null,
   "metadata": {
    "id": "4uvDXfGAij3r",
    "outputId": "f23757cf-d0bd-4eaa-abdc-2f5f274ea06a"
   },
   "outputs": [],
   "source": [
    "plt.plot(list_df2[\"time\"], list_df2[\"people\"], label=\"raw\")\n",
    "ma_x2, ma_y2 = moving_average(list_df2[\"time\"], list_df2[\"people\"])\n",
    "plt.plot(ma_x2,ma_y2, label=\"average\")\n",
    "plt.xlabel('time(sec.)')\n",
    "plt.ylabel('population')\n",
    "plt.ylim(0,15)\n",
    "plt.legend()\n",
    "plt.show()"
   ]
  },
  {
   "cell_type": "code",
   "execution_count": null,
   "metadata": {
    "id": "mKWlkYN1ij3r",
    "outputId": "e0c80e32-1ece-4050-8717-1bc8c8783f8f"
   },
   "outputs": [],
   "source": [
    "plt.plot(ma_x,ma_y, label=\"1st\")\n",
    "plt.plot(ma_x2,ma_y2, label=\"2nd\")\n",
    "plt.xlabel('time(sec.)')\n",
    "plt.ylabel('population')\n",
    "plt.ylim(0,15)\n",
    "plt.legend()\n",
    "plt.show()"
   ]
  }
 ],
 "metadata": {
  "colab": {
   "collapsed_sections": [
    "EnxdBp8Pij3l",
    "2RXHi1jEij3m",
    "u33mA7sUij3n",
    "R0v2owrYij3n",
    "pK99r_Rjij3n"
   ],
   "provenance": []
  },
  "kernelspec": {
   "display_name": "Python 3 (ipykernel)",
   "language": "python",
   "name": "python3"
  },
  "language_info": {
   "codemirror_mode": {
    "name": "ipython",
    "version": 3
   },
   "file_extension": ".py",
   "mimetype": "text/x-python",
   "name": "python",
   "nbconvert_exporter": "python",
   "pygments_lexer": "ipython3",
   "version": "3.9.12"
  }
 },
 "nbformat": 4,
 "nbformat_minor": 1
}
